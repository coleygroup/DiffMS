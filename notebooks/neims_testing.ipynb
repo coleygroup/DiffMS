{
 "cells": [
  {
   "cell_type": "code",
   "execution_count": 78,
   "id": "0fdca191",
   "metadata": {},
   "outputs": [],
   "source": [
    "import pickle as pkl\n",
    "import pandas as pd \n",
    "import numpy as np\n",
    "from tqdm import tqdm \n",
    "from rdkit.Chem import MolFromSmiles, rdFingerprintGenerator\n",
    "from rdkit.DataStructs import TanimotoSimilarity\n",
    "np.random.seed(seed=42)"
   ]
  },
  {
   "cell_type": "code",
   "execution_count": 51,
   "id": "8cca357f",
   "metadata": {},
   "outputs": [
    {
     "name": "stdout",
     "output_type": "stream",
     "text": [
      "train: 83.996383 %\n",
      "test: 7.596580 %\n",
      "val: 8.407038 %\n"
     ]
    }
   ],
   "source": [
    "msgdf = pd.read_csv('../data/msg/split.tsv', sep = '\\t', index_col='name')\n",
    "train, val, test = pd.value_counts(msgdf['split'])\n",
    "df_msg_len = train + val + test\n",
    "train_p  = train / df_msg_len\n",
    "val_p = val / df_msg_len\n",
    "test_p = test / df_msg_len\n",
    "print(f'train: {train_p* 100:2f} %\\ntest: {test_p* 100:2f} %\\nval: {val_p* 100:2f} %')"
   ]
  },
  {
   "cell_type": "code",
   "execution_count": 52,
   "id": "5dd95bcf",
   "metadata": {},
   "outputs": [
    {
     "data": {
      "text/html": [
       "<div>\n",
       "<style scoped>\n",
       "    .dataframe tbody tr th:only-of-type {\n",
       "        vertical-align: middle;\n",
       "    }\n",
       "\n",
       "    .dataframe tbody tr th {\n",
       "        vertical-align: top;\n",
       "    }\n",
       "\n",
       "    .dataframe thead th {\n",
       "        text-align: right;\n",
       "    }\n",
       "</style>\n",
       "<table border=\"1\" class=\"dataframe\">\n",
       "  <thead>\n",
       "    <tr style=\"text-align: right;\">\n",
       "      <th></th>\n",
       "      <th>SMILES</th>\n",
       "      <th>spec</th>\n",
       "    </tr>\n",
       "  </thead>\n",
       "  <tbody>\n",
       "    <tr>\n",
       "      <th>0</th>\n",
       "      <td>C(=O)</td>\n",
       "      <td>[[14, 15, 16, 18, 19, 25, 26, 27, 28, 29, 30, ...</td>\n",
       "    </tr>\n",
       "    <tr>\n",
       "      <th>1</th>\n",
       "      <td>C(=O)(N(=O)(=O))</td>\n",
       "      <td>[[14, 16, 17, 18, 19, 27, 28, 29, 30, 31, 32, ...</td>\n",
       "    </tr>\n",
       "    <tr>\n",
       "      <th>2</th>\n",
       "      <td>C(=O)(N(=O)(=O))C(=O)</td>\n",
       "      <td>[[14, 15, 16, 17, 18, 19, 25, 27, 28, 29, 30, ...</td>\n",
       "    </tr>\n",
       "    <tr>\n",
       "      <th>3</th>\n",
       "      <td>C(=O)(N(=O)(=O))C(=O)(O)</td>\n",
       "      <td>[[14, 15, 16, 17, 18, 19, 25, 27, 28, 29, 30, ...</td>\n",
       "    </tr>\n",
       "    <tr>\n",
       "      <th>4</th>\n",
       "      <td>C(=O)(N(=O)(=O))C(=O)(OO)</td>\n",
       "      <td>[[14, 15, 16, 17, 18, 19, 25, 26, 27, 28, 29, ...</td>\n",
       "    </tr>\n",
       "    <tr>\n",
       "      <th>...</th>\n",
       "      <td>...</td>\n",
       "      <td>...</td>\n",
       "    </tr>\n",
       "    <tr>\n",
       "      <th>166429</th>\n",
       "      <td>CC1(O)C(O)(C(=O)(OON(=O)(=O)))OOC1C(O)C(=O)(OO...</td>\n",
       "      <td>[[14, 15, 16, 17, 18, 19, 26, 27, 28, 29, 30, ...</td>\n",
       "    </tr>\n",
       "    <tr>\n",
       "      <th>166430</th>\n",
       "      <td>CC1(O)C(O)(C(=O)(OON(=O)(=O)))OOC1C(O)C(=O)</td>\n",
       "      <td>[[14, 15, 16, 17, 18, 19, 25, 26, 27, 28, 29, ...</td>\n",
       "    </tr>\n",
       "    <tr>\n",
       "      <th>166431</th>\n",
       "      <td>CC1(O)C(O)(C(=O)(OON(=O)(=O)))OOC1C(=O)C(=O)</td>\n",
       "      <td>[[14, 15, 16, 17, 18, 19, 25, 26, 27, 28, 29, ...</td>\n",
       "    </tr>\n",
       "    <tr>\n",
       "      <th>166432</th>\n",
       "      <td>CC1(O)C(O)(C(=O)(OON(=O)(=O)))OOC1C(=O)(OON(=O...</td>\n",
       "      <td>[[14, 15, 16, 26, 27, 28, 29, 30, 31, 32, 38, ...</td>\n",
       "    </tr>\n",
       "    <tr>\n",
       "      <th>166433</th>\n",
       "      <td>CC1(O)C(O)(C(=O)(OO))OOC1C(OO)C(=O)</td>\n",
       "      <td>[[14, 15, 16, 17, 18, 19, 25, 26, 27, 28, 29, ...</td>\n",
       "    </tr>\n",
       "  </tbody>\n",
       "</table>\n",
       "<p>166434 rows × 2 columns</p>\n",
       "</div>"
      ],
      "text/plain": [
       "                                                   SMILES  \\\n",
       "0                                                   C(=O)   \n",
       "1                                        C(=O)(N(=O)(=O))   \n",
       "2                                   C(=O)(N(=O)(=O))C(=O)   \n",
       "3                                C(=O)(N(=O)(=O))C(=O)(O)   \n",
       "4                               C(=O)(N(=O)(=O))C(=O)(OO)   \n",
       "...                                                   ...   \n",
       "166429  CC1(O)C(O)(C(=O)(OON(=O)(=O)))OOC1C(O)C(=O)(OO...   \n",
       "166430        CC1(O)C(O)(C(=O)(OON(=O)(=O)))OOC1C(O)C(=O)   \n",
       "166431       CC1(O)C(O)(C(=O)(OON(=O)(=O)))OOC1C(=O)C(=O)   \n",
       "166432  CC1(O)C(O)(C(=O)(OON(=O)(=O)))OOC1C(=O)(OON(=O...   \n",
       "166433                CC1(O)C(O)(C(=O)(OO))OOC1C(OO)C(=O)   \n",
       "\n",
       "                                                     spec  \n",
       "0       [[14, 15, 16, 18, 19, 25, 26, 27, 28, 29, 30, ...  \n",
       "1       [[14, 16, 17, 18, 19, 27, 28, 29, 30, 31, 32, ...  \n",
       "2       [[14, 15, 16, 17, 18, 19, 25, 27, 28, 29, 30, ...  \n",
       "3       [[14, 15, 16, 17, 18, 19, 25, 27, 28, 29, 30, ...  \n",
       "4       [[14, 15, 16, 17, 18, 19, 25, 26, 27, 28, 29, ...  \n",
       "...                                                   ...  \n",
       "166429  [[14, 15, 16, 17, 18, 19, 26, 27, 28, 29, 30, ...  \n",
       "166430  [[14, 15, 16, 17, 18, 19, 25, 26, 27, 28, 29, ...  \n",
       "166431  [[14, 15, 16, 17, 18, 19, 25, 26, 27, 28, 29, ...  \n",
       "166432  [[14, 15, 16, 26, 27, 28, 29, 30, 31, 32, 38, ...  \n",
       "166433  [[14, 15, 16, 17, 18, 19, 25, 26, 27, 28, 29, ...  \n",
       "\n",
       "[166434 rows x 2 columns]"
      ]
     },
     "execution_count": 52,
     "metadata": {},
     "output_type": "execute_result"
    }
   ],
   "source": [
    "with open('../data/neims/df_neims_gecko.pkl', 'rb') as file:\n",
    "    df = pkl.load(file)\n",
    "df"
   ]
  },
  {
   "cell_type": "code",
   "execution_count": 56,
   "id": "83f2cf6a",
   "metadata": {},
   "outputs": [],
   "source": [
    "df['mol'] = df['SMILES'].apply(MolFromSmiles)"
   ]
  },
  {
   "cell_type": "code",
   "execution_count": 64,
   "id": "312c589f",
   "metadata": {},
   "outputs": [],
   "source": [
    "morgan_generator = rdFingerprintGenerator.GetMorganGenerator(radius=2,fpSize=2048)"
   ]
  },
  {
   "cell_type": "code",
   "execution_count": 80,
   "id": "3ebcc7a9",
   "metadata": {},
   "outputs": [
    {
     "name": "stderr",
     "output_type": "stream",
     "text": [
      "Computing fingerprints: 100%|██████████| 166434/166434 [00:02<00:00, 73354.61it/s]\n",
      "Checking for duplicates:   1%|          | 1593/166434 [03:23<5:51:18,  7.82it/s]\n"
     ]
    },
    {
     "ename": "KeyboardInterrupt",
     "evalue": "",
     "output_type": "error",
     "traceback": [
      "\u001b[0;31m---------------------------------------------------------------------------\u001b[0m",
      "\u001b[0;31mKeyboardInterrupt\u001b[0m                         Traceback (most recent call last)",
      "Cell \u001b[0;32mIn[80], line 8\u001b[0m\n\u001b[1;32m      6\u001b[0m \u001b[38;5;28;01mfor\u001b[39;00m i \u001b[38;5;129;01min\u001b[39;00m tqdm(\u001b[38;5;28mrange\u001b[39m(n), desc\u001b[38;5;241m=\u001b[39m\u001b[38;5;124m\"\u001b[39m\u001b[38;5;124mChecking for duplicates\u001b[39m\u001b[38;5;124m\"\u001b[39m):\n\u001b[1;32m      7\u001b[0m     \u001b[38;5;28;01mfor\u001b[39;00m j \u001b[38;5;129;01min\u001b[39;00m \u001b[38;5;28mrange\u001b[39m(i \u001b[38;5;241m+\u001b[39m \u001b[38;5;241m1\u001b[39m, n):\n\u001b[0;32m----> 8\u001b[0m         \u001b[38;5;28;01mif\u001b[39;00m \u001b[43mTanimotoSimilarity\u001b[49m\u001b[43m(\u001b[49m\u001b[43mfps\u001b[49m\u001b[43m[\u001b[49m\u001b[43mi\u001b[49m\u001b[43m]\u001b[49m\u001b[43m,\u001b[49m\u001b[43m \u001b[49m\u001b[43mfps\u001b[49m\u001b[43m[\u001b[49m\u001b[43mj\u001b[49m\u001b[43m]\u001b[49m\u001b[43m)\u001b[49m \u001b[38;5;241m==\u001b[39m \u001b[38;5;241m1.0\u001b[39m:\n\u001b[1;32m      9\u001b[0m             num_dupes \u001b[38;5;241m+\u001b[39m\u001b[38;5;241m=\u001b[39m \u001b[38;5;241m1\u001b[39m\n",
      "\u001b[0;31mKeyboardInterrupt\u001b[0m: "
     ]
    }
   ],
   "source": [
    "mols = df['mol'].values\n",
    "fps = [morgan_generator.GetFingerprint(mol) for mol in tqdm(mols, desc=\"Computing fingerprints\")]\n",
    "\n",
    "num_dupes = 0\n",
    "n = len(fps)\n",
    "for i in tqdm(range(n), desc=\"Checking for duplicates\"):\n",
    "    for j in range(i + 1, n):\n",
    "        if TanimotoSimilarity(fps[i], fps[j]) == 1.0:\n",
    "            num_dupes += 1  "
   ]
  },
  {
   "cell_type": "code",
   "execution_count": null,
   "id": "e56d678c",
   "metadata": {},
   "outputs": [],
   "source": [
    "print(num_dupes)"
   ]
  },
  {
   "cell_type": "code",
   "execution_count": 53,
   "id": "a356f5a3",
   "metadata": {},
   "outputs": [],
   "source": [
    "df.index.name = 'name'"
   ]
  },
  {
   "cell_type": "code",
   "execution_count": 54,
   "id": "4ad17170",
   "metadata": {},
   "outputs": [],
   "source": [
    "df_len = len(df)\n",
    "num_train_val_test = (round(train_p * df_len), round(val_p * df_len), round(test_p * df_len))\n",
    "assert sum(num_train_val_test) == len(df)\n",
    "trains = np.full(num_train_val_test[0], 'train')\n",
    "vals = np.full(num_train_val_test[1], 'val')\n",
    "tests = np.full(num_train_val_test[2], 'test')\n",
    "split = np.hstack([trains, vals, tests])\n",
    "np.random.shuffle(split)\n",
    "df['split'] = split"
   ]
  },
  {
   "cell_type": "code",
   "execution_count": 55,
   "id": "7f4c59f4",
   "metadata": {},
   "outputs": [],
   "source": [
    "df.drop(columns=['spec', 'SMILES']).to_csv('../data/neims/split.tsv', sep='\\t')"
   ]
  }
 ],
 "metadata": {
  "kernelspec": {
   "display_name": "diffms",
   "language": "python",
   "name": "python3"
  },
  "language_info": {
   "codemirror_mode": {
    "name": "ipython",
    "version": 3
   },
   "file_extension": ".py",
   "mimetype": "text/x-python",
   "name": "python",
   "nbconvert_exporter": "python",
   "pygments_lexer": "ipython3",
   "version": "3.9.22"
  }
 },
 "nbformat": 4,
 "nbformat_minor": 5
}
