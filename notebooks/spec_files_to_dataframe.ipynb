{
 "cells": [
  {
   "cell_type": "code",
   "execution_count": 1,
   "id": "dd5a04b6",
   "metadata": {},
   "outputs": [],
   "source": [
    "import sys\n",
    "from pathlib import Path\n",
    "sys.path.append(str(Path(\"..\").resolve() / \"src\"))"
   ]
  },
  {
   "cell_type": "code",
   "execution_count": 2,
   "id": "0dc7c951",
   "metadata": {},
   "outputs": [],
   "source": [
    "import pandas as pd\n",
    "from pathlib import Path\n",
    "from tqdm import tqdm\n",
    "from mist.utils.parse_utils import parse_spectra"
   ]
  },
  {
   "cell_type": "code",
   "execution_count": 3,
   "id": "09494500",
   "metadata": {},
   "outputs": [],
   "source": [
    "spec_dir = Path(\"../data/msg/spec_files\")"
   ]
  },
  {
   "cell_type": "code",
   "execution_count": 5,
   "id": "874bc738",
   "metadata": {},
   "outputs": [
    {
     "name": "stderr",
     "output_type": "stream",
     "text": [
      "231104it [00:54, 4274.85it/s]\n"
     ]
    },
    {
     "data": {
      "text/plain": [
       "array([[1.2498220e+02, 5.6297340e-02],\n",
       "       [1.4299280e+02, 3.4264970e-02],\n",
       "       [1.5695430e+02, 5.9264500e-03],\n",
       "       [1.7097030e+02, 1.4812988e-01],\n",
       "       [1.7197210e+02, 5.1866200e-03],\n",
       "       [1.7296610e+02, 1.0384980e-02],\n",
       "       [1.9798140e+02, 3.4920630e-02],\n",
       "       [1.9896570e+02, 1.0000000e+00],\n",
       "       [1.9996820e+02, 3.6065610e-02],\n",
       "       [2.0096140e+02, 5.8029480e-02],\n",
       "       [2.3000810e+02, 1.5077995e-01],\n",
       "       [2.3101050e+02, 8.1987700e-03],\n",
       "       [2.3200370e+02, 1.0228410e-02]])"
      ]
     },
     "execution_count": 5,
     "metadata": {},
     "output_type": "execute_result"
    }
   ],
   "source": [
    "rows = []\n",
    "\n",
    "for fpath in tqdm(spec_dir.glob(\"*.ms\")):\n",
    "    try:\n",
    "        metadata, spectras = parse_spectra(str(fpath))\n",
    "        spectra_dict = {name: array for name, array in spectras}\n",
    "        ms2_peaks = spectra_dict.get(\"ms2peaks\", None)\n",
    "        metadata[\"ms2_peaks\"] = ms2_peaks\n",
    "        rows.append(metadata)\n",
    "    except Exception as e:\n",
    "        print(f\"Failed to parse {fpath}: {e}\")\n",
    "\n",
    "df = pd.DataFrame(rows)\n",
    "df['ms2_peaks'].loc[0]"
   ]
  },
  {
   "cell_type": "code",
   "execution_count": 6,
   "id": "5b47e41c",
   "metadata": {},
   "outputs": [
    {
     "data": {
      "text/plain": [
       "array([[1.2498220e+02, 5.6297340e-02],\n",
       "       [1.4299280e+02, 3.4264970e-02],\n",
       "       [1.5695430e+02, 5.9264500e-03],\n",
       "       [1.7097030e+02, 1.4812988e-01],\n",
       "       [1.7197210e+02, 5.1866200e-03],\n",
       "       [1.7296610e+02, 1.0384980e-02],\n",
       "       [1.9798140e+02, 3.4920630e-02],\n",
       "       [1.9896570e+02, 1.0000000e+00],\n",
       "       [1.9996820e+02, 3.6065610e-02],\n",
       "       [2.0096140e+02, 5.8029480e-02],\n",
       "       [2.3000810e+02, 1.5077995e-01],\n",
       "       [2.3101050e+02, 8.1987700e-03],\n",
       "       [2.3200370e+02, 1.0228410e-02]])"
      ]
     },
     "execution_count": 6,
     "metadata": {},
     "output_type": "execute_result"
    }
   ],
   "source": [
    "df['ms2_peaks'].loc[0]"
   ]
  }
 ],
 "metadata": {
  "kernelspec": {
   "display_name": "diffms",
   "language": "python",
   "name": "python3"
  },
  "language_info": {
   "codemirror_mode": {
    "name": "ipython",
    "version": 3
   },
   "file_extension": ".py",
   "mimetype": "text/x-python",
   "name": "python",
   "nbconvert_exporter": "python",
   "pygments_lexer": "ipython3",
   "version": "3.9.22"
  }
 },
 "nbformat": 4,
 "nbformat_minor": 5
}
